{
 "cells": [
  {
   "cell_type": "code",
   "execution_count": 49,
   "metadata": {},
   "outputs": [
    {
     "name": "stdout",
     "output_type": "stream",
     "text": [
      "total tasks: 360\n",
      "started: 127\n",
      "not started: 233\n",
      "overdue: 112\n"
     ]
    }
   ],
   "source": [
    "from datetime import datetime\n",
    "import json\n",
    "\n",
    "count = 0\n",
    "te_laat = 0\n",
    "started = 0\n",
    "not_started = 0\n",
    "\n",
    "with open(\"frontend/dashboard.json\", \"r\") as file:\n",
    "    info = json.load(file)\n",
    "    late_count = 0\n",
    "    for plan, tasks in info.items():\n",
    "        for task in tasks:\n",
    "            if task[2] != 'Geen datum.':\n",
    "                count += 1\n",
    "            if task[2].startswith('Te laat'):\n",
    "                te_laat += 1\n",
    "            if task[3] == '50' and task[2] != 'Geen datum.':\n",
    "                started += 1\n",
    "            if task[3] == '0' and task[2] != 'Geen datum.':\n",
    "                not_started += 1\n",
    "            \n",
    "print(f'total tasks: {count}')\n",
    "print(f'started: {started}')\n",
    "print(f'not started: {not_started}')\n",
    "print(f'overdue: {te_laat}')  \n",
    "\n",
    "\n"
   ]
  },
  {
   "cell_type": "code",
   "execution_count": null,
   "metadata": {},
   "outputs": [],
   "source": [
    "from datetime import datetime\n",
    "import json\n",
    "\n",
    "count = 0\n",
    "te_laat = 0\n",
    "started = 0\n",
    "not_started = 0\n",
    "\n",
    "with open(\"frontend/dashboard.json\", \"r\") as file:\n",
    "    info = json.load(file)\n",
    "    late_count = 0\n",
    "    for plan, tasks in info.items():\n",
    "        for task in tasks:\n",
    "            if task[2] != 'Geen datum.':\n",
    "                count += 1\n",
    "            if task[2].startswith('Te laat'):\n",
    "                te_laat += 1\n",
    "            if task[3] == '50' and task[2] != 'Geen datum.':\n",
    "                started += 1\n",
    "            if task[3] == '0' and task[2] != 'Geen datum.':\n",
    "                not_started += 1\n",
    "            \n",
    "print(f'total tasks: {count}')\n",
    "print(f'started: {started}')\n",
    "print(f'not started: {not_started}')\n",
    "print(f'overdue: {te_laat}')  \n",
    "\n",
    "\n"
   ]
  }
 ],
 "metadata": {
  "kernelspec": {
   "display_name": "Python 3",
   "language": "python",
   "name": "python3"
  },
  "language_info": {
   "codemirror_mode": {
    "name": "ipython",
    "version": 3
   },
   "file_extension": ".py",
   "mimetype": "text/x-python",
   "name": "python",
   "nbconvert_exporter": "python",
   "pygments_lexer": "ipython3",
   "version": "3.10.11"
  }
 },
 "nbformat": 4,
 "nbformat_minor": 2
}
