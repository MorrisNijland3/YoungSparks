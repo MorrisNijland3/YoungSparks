{
 "cells": [
  {
   "cell_type": "code",
   "execution_count": 30,
   "metadata": {},
   "outputs": [],
   "source": [
    "import json\n",
    "\n",
    "personen = {\n",
    "    'b4d1b492-7032-463d-83af-aff06efa96ce': 'Alec van der Schuit',\n",
    "    '38c20268-9c11-4f0d-be56-1299263ff655': 'Amber Schouten',\n",
    "    '229783bd-5be2-4298-a0f1-1ce089b6e621': 'Daan Bakker',\n",
    "    '8d303b8f-4dad-442c-89b4-aa7c76936416': 'Dionne Duijzer',\n",
    "    '413d0ff7-8dcb-420a-ba12-951f36f7d67e': 'Ewout Vet',\n",
    "    '9d190cd0-e1e2-4cc1-97ec-1e0c27e7bfbc': 'Jelmer de Vries',\n",
    "    '993ef9e4-30df-43f2-9dbf-f68f26e3b1fb': 'Jim Struikenkamp',\n",
    "    '8f1c96b3-8224-48f7-b4c7-a7e74338dfc8': 'Julia van Kalken',\n",
    "    '4282d6cb-daad-438d-b530-4e7bf1b23519': 'Julia Klaver',\n",
    "    '72222403-1d90-49d5-9da3-780a0b39fb8b': 'Kay van Wijk',\n",
    "    '5b092ce6-0f82-4b33-aad7-6e3cb6486950': 'Leonie van der Park',\n",
    "    '59549484-de76-4dac-90f5-1f09f644bed6': 'Miel Tiebie',\n",
    "    '5efa6a82-5942-4dd9-a54e-fa71365e8292': 'Morris Nijland',\n",
    "    'f57b2dd5-443a-4306-a2e3-f14b44f0501a': 'Sabrina Schot',\n",
    "    '99dba567-3892-4236-a695-2e8c0180c197': 'Steijn van Buuren',\n",
    "    '5c84a86f-c592-40f1-af8c-d8e7d108e37e': 'Thijmen Buurs',\n",
    "    'a1266dc0-cdf5-472c-9f17-2f851ebc2f76': 'Tijn de Ruijter'\n",
    "}\n",
    "\n",
    "with open('taken.json') as f:\n",
    "    reader = json.load(f)\n",
    "\n",
    "f = open('plannen.json', 'w')\n",
    "plannen = {}\n",
    "\n",
    "for task in reader:\n",
    "    voortgang = task['Voortgang']\n",
    "    plan = task['Plan']\n",
    "    title = task['Title']\n",
    "    assigned_to_json = task['AssignedToUserId']\n",
    "    due_date = task['Due']\n",
    "\n",
    "    assigned_to_dict = json.loads(assigned_to_json)\n",
    "\n",
    "    assigned_to_names = [personen.get(user_id, user_id) for user_id in assigned_to_dict.keys()]\n",
    "    if voortgang != '100':\n",
    "        if plan not in plannen:\n",
    "            plannen[plan] = [[voortgang, title, assigned_to_names, due_date]]\n",
    "        else:\n",
    "            plannen[plan].append([voortgang, title, assigned_to_names, due_date])\n",
    "f.write(json.dumps(plannen, indent=4))\n",
    "f.close()\n",
    "\n"
   ]
  },
  {
   "cell_type": "code",
   "execution_count": null,
   "metadata": {},
   "outputs": [],
   "source": []
  }
 ],
 "metadata": {
  "kernelspec": {
   "display_name": "YoungSparksMarketing",
   "language": "python",
   "name": "python3"
  },
  "language_info": {
   "codemirror_mode": {
    "name": "ipython",
    "version": 3
   },
   "file_extension": ".py",
   "mimetype": "text/x-python",
   "name": "python",
   "nbconvert_exporter": "python",
   "pygments_lexer": "ipython3",
   "version": "3.8.19"
  }
 },
 "nbformat": 4,
 "nbformat_minor": 2
}
